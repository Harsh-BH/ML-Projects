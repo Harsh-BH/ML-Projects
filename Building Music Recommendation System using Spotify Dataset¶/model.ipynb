{
 "cells": [
  {
   "cell_type": "code",
   "execution_count": 1,
   "metadata": {},
   "outputs": [],
   "source": [
    "import os\n",
    "import numpy as np\n",
    "import pandas as pd\n",
    "\n",
    "import seaborn as sns\n",
    "import plotly.express as px \n",
    "import matplotlib.pyplot as plt\n",
    "%matplotlib inline\n",
    "\n",
    "from sklearn.cluster import KMeans\n",
    "from sklearn.preprocessing import StandardScaler\n",
    "from sklearn.pipeline import Pipeline\n",
    "from sklearn.manifold import TSNE\n",
    "from sklearn.decomposition import PCA\n",
    "from sklearn.metrics import euclidean_distances\n",
    "from scipy.spatial.distance import cdist\n",
    "\n",
    "import warnings\n",
    "warnings.filterwarnings(\"ignore\")"
   ]
  },
  {
   "cell_type": "code",
   "execution_count": 5,
   "metadata": {},
   "outputs": [
    {
     "data": {
      "text/html": [
       "<div>\n",
       "<style scoped>\n",
       "    .dataframe tbody tr th:only-of-type {\n",
       "        vertical-align: middle;\n",
       "    }\n",
       "\n",
       "    .dataframe tbody tr th {\n",
       "        vertical-align: top;\n",
       "    }\n",
       "\n",
       "    .dataframe thead th {\n",
       "        text-align: right;\n",
       "    }\n",
       "</style>\n",
       "<table border=\"1\" class=\"dataframe\">\n",
       "  <thead>\n",
       "    <tr style=\"text-align: right;\">\n",
       "      <th></th>\n",
       "      <th>valence</th>\n",
       "      <th>year</th>\n",
       "      <th>acousticness</th>\n",
       "      <th>artists</th>\n",
       "      <th>danceability</th>\n",
       "      <th>duration_ms</th>\n",
       "      <th>energy</th>\n",
       "      <th>explicit</th>\n",
       "      <th>id</th>\n",
       "      <th>instrumentalness</th>\n",
       "      <th>key</th>\n",
       "      <th>liveness</th>\n",
       "      <th>loudness</th>\n",
       "      <th>mode</th>\n",
       "      <th>name</th>\n",
       "      <th>popularity</th>\n",
       "      <th>release_date</th>\n",
       "      <th>speechiness</th>\n",
       "      <th>tempo</th>\n",
       "    </tr>\n",
       "  </thead>\n",
       "  <tbody>\n",
       "    <tr>\n",
       "      <th>0</th>\n",
       "      <td>0.0594</td>\n",
       "      <td>1921</td>\n",
       "      <td>0.982</td>\n",
       "      <td>['Sergei Rachmaninoff', 'James Levine', 'Berli...</td>\n",
       "      <td>0.279</td>\n",
       "      <td>831667</td>\n",
       "      <td>0.211</td>\n",
       "      <td>0</td>\n",
       "      <td>4BJqT0PrAfrxzMOxytFOIz</td>\n",
       "      <td>0.878000</td>\n",
       "      <td>10</td>\n",
       "      <td>0.665</td>\n",
       "      <td>-20.096</td>\n",
       "      <td>1</td>\n",
       "      <td>Piano Concerto No. 3 in D Minor, Op. 30: III. ...</td>\n",
       "      <td>4</td>\n",
       "      <td>1921</td>\n",
       "      <td>0.0366</td>\n",
       "      <td>80.954</td>\n",
       "    </tr>\n",
       "    <tr>\n",
       "      <th>1</th>\n",
       "      <td>0.9630</td>\n",
       "      <td>1921</td>\n",
       "      <td>0.732</td>\n",
       "      <td>['Dennis Day']</td>\n",
       "      <td>0.819</td>\n",
       "      <td>180533</td>\n",
       "      <td>0.341</td>\n",
       "      <td>0</td>\n",
       "      <td>7xPhfUan2yNtyFG0cUWkt8</td>\n",
       "      <td>0.000000</td>\n",
       "      <td>7</td>\n",
       "      <td>0.160</td>\n",
       "      <td>-12.441</td>\n",
       "      <td>1</td>\n",
       "      <td>Clancy Lowered the Boom</td>\n",
       "      <td>5</td>\n",
       "      <td>1921</td>\n",
       "      <td>0.4150</td>\n",
       "      <td>60.936</td>\n",
       "    </tr>\n",
       "    <tr>\n",
       "      <th>2</th>\n",
       "      <td>0.0394</td>\n",
       "      <td>1921</td>\n",
       "      <td>0.961</td>\n",
       "      <td>['KHP Kridhamardawa Karaton Ngayogyakarta Hadi...</td>\n",
       "      <td>0.328</td>\n",
       "      <td>500062</td>\n",
       "      <td>0.166</td>\n",
       "      <td>0</td>\n",
       "      <td>1o6I8BglA6ylDMrIELygv1</td>\n",
       "      <td>0.913000</td>\n",
       "      <td>3</td>\n",
       "      <td>0.101</td>\n",
       "      <td>-14.850</td>\n",
       "      <td>1</td>\n",
       "      <td>Gati Bali</td>\n",
       "      <td>5</td>\n",
       "      <td>1921</td>\n",
       "      <td>0.0339</td>\n",
       "      <td>110.339</td>\n",
       "    </tr>\n",
       "    <tr>\n",
       "      <th>3</th>\n",
       "      <td>0.1650</td>\n",
       "      <td>1921</td>\n",
       "      <td>0.967</td>\n",
       "      <td>['Frank Parker']</td>\n",
       "      <td>0.275</td>\n",
       "      <td>210000</td>\n",
       "      <td>0.309</td>\n",
       "      <td>0</td>\n",
       "      <td>3ftBPsC5vPBKxYSee08FDH</td>\n",
       "      <td>0.000028</td>\n",
       "      <td>5</td>\n",
       "      <td>0.381</td>\n",
       "      <td>-9.316</td>\n",
       "      <td>1</td>\n",
       "      <td>Danny Boy</td>\n",
       "      <td>3</td>\n",
       "      <td>1921</td>\n",
       "      <td>0.0354</td>\n",
       "      <td>100.109</td>\n",
       "    </tr>\n",
       "    <tr>\n",
       "      <th>4</th>\n",
       "      <td>0.2530</td>\n",
       "      <td>1921</td>\n",
       "      <td>0.957</td>\n",
       "      <td>['Phil Regan']</td>\n",
       "      <td>0.418</td>\n",
       "      <td>166693</td>\n",
       "      <td>0.193</td>\n",
       "      <td>0</td>\n",
       "      <td>4d6HGyGT8e121BsdKmw9v6</td>\n",
       "      <td>0.000002</td>\n",
       "      <td>3</td>\n",
       "      <td>0.229</td>\n",
       "      <td>-10.096</td>\n",
       "      <td>1</td>\n",
       "      <td>When Irish Eyes Are Smiling</td>\n",
       "      <td>2</td>\n",
       "      <td>1921</td>\n",
       "      <td>0.0380</td>\n",
       "      <td>101.665</td>\n",
       "    </tr>\n",
       "  </tbody>\n",
       "</table>\n",
       "</div>"
      ],
      "text/plain": [
       "   valence  year  acousticness  \\\n",
       "0   0.0594  1921         0.982   \n",
       "1   0.9630  1921         0.732   \n",
       "2   0.0394  1921         0.961   \n",
       "3   0.1650  1921         0.967   \n",
       "4   0.2530  1921         0.957   \n",
       "\n",
       "                                             artists  danceability  \\\n",
       "0  ['Sergei Rachmaninoff', 'James Levine', 'Berli...         0.279   \n",
       "1                                     ['Dennis Day']         0.819   \n",
       "2  ['KHP Kridhamardawa Karaton Ngayogyakarta Hadi...         0.328   \n",
       "3                                   ['Frank Parker']         0.275   \n",
       "4                                     ['Phil Regan']         0.418   \n",
       "\n",
       "   duration_ms  energy  explicit                      id  instrumentalness  \\\n",
       "0       831667   0.211         0  4BJqT0PrAfrxzMOxytFOIz          0.878000   \n",
       "1       180533   0.341         0  7xPhfUan2yNtyFG0cUWkt8          0.000000   \n",
       "2       500062   0.166         0  1o6I8BglA6ylDMrIELygv1          0.913000   \n",
       "3       210000   0.309         0  3ftBPsC5vPBKxYSee08FDH          0.000028   \n",
       "4       166693   0.193         0  4d6HGyGT8e121BsdKmw9v6          0.000002   \n",
       "\n",
       "   key  liveness  loudness  mode  \\\n",
       "0   10     0.665   -20.096     1   \n",
       "1    7     0.160   -12.441     1   \n",
       "2    3     0.101   -14.850     1   \n",
       "3    5     0.381    -9.316     1   \n",
       "4    3     0.229   -10.096     1   \n",
       "\n",
       "                                                name  popularity release_date  \\\n",
       "0  Piano Concerto No. 3 in D Minor, Op. 30: III. ...           4         1921   \n",
       "1                            Clancy Lowered the Boom           5         1921   \n",
       "2                                          Gati Bali           5         1921   \n",
       "3                                          Danny Boy           3         1921   \n",
       "4                        When Irish Eyes Are Smiling           2         1921   \n",
       "\n",
       "   speechiness    tempo  \n",
       "0       0.0366   80.954  \n",
       "1       0.4150   60.936  \n",
       "2       0.0339  110.339  \n",
       "3       0.0354  100.109  \n",
       "4       0.0380  101.665  "
      ]
     },
     "execution_count": 5,
     "metadata": {},
     "output_type": "execute_result"
    }
   ],
   "source": [
    "df = pd.read_csv(\"K:\\ML-Projects\\Building Music Recommendation System using Spotify Dataset¶\\data\\data.csv\")\n",
    "df.head()"
   ]
  },
  {
   "cell_type": "code",
   "execution_count": 10,
   "metadata": {},
   "outputs": [
    {
     "data": {
      "text/html": [
       "<div>\n",
       "<style scoped>\n",
       "    .dataframe tbody tr th:only-of-type {\n",
       "        vertical-align: middle;\n",
       "    }\n",
       "\n",
       "    .dataframe tbody tr th {\n",
       "        vertical-align: top;\n",
       "    }\n",
       "\n",
       "    .dataframe thead th {\n",
       "        text-align: right;\n",
       "    }\n",
       "</style>\n",
       "<table border=\"1\" class=\"dataframe\">\n",
       "  <thead>\n",
       "    <tr style=\"text-align: right;\">\n",
       "      <th></th>\n",
       "      <th>mode</th>\n",
       "      <th>genres</th>\n",
       "      <th>acousticness</th>\n",
       "      <th>danceability</th>\n",
       "      <th>duration_ms</th>\n",
       "      <th>energy</th>\n",
       "      <th>instrumentalness</th>\n",
       "      <th>liveness</th>\n",
       "      <th>loudness</th>\n",
       "      <th>speechiness</th>\n",
       "      <th>tempo</th>\n",
       "      <th>valence</th>\n",
       "      <th>popularity</th>\n",
       "      <th>key</th>\n",
       "    </tr>\n",
       "  </thead>\n",
       "  <tbody>\n",
       "    <tr>\n",
       "      <th>0</th>\n",
       "      <td>1</td>\n",
       "      <td>21st century classical</td>\n",
       "      <td>0.979333</td>\n",
       "      <td>0.162883</td>\n",
       "      <td>1.602977e+05</td>\n",
       "      <td>0.071317</td>\n",
       "      <td>0.606834</td>\n",
       "      <td>0.361600</td>\n",
       "      <td>-31.514333</td>\n",
       "      <td>0.040567</td>\n",
       "      <td>75.336500</td>\n",
       "      <td>0.103783</td>\n",
       "      <td>27.833333</td>\n",
       "      <td>6</td>\n",
       "    </tr>\n",
       "    <tr>\n",
       "      <th>1</th>\n",
       "      <td>1</td>\n",
       "      <td>432hz</td>\n",
       "      <td>0.494780</td>\n",
       "      <td>0.299333</td>\n",
       "      <td>1.048887e+06</td>\n",
       "      <td>0.450678</td>\n",
       "      <td>0.477762</td>\n",
       "      <td>0.131000</td>\n",
       "      <td>-16.854000</td>\n",
       "      <td>0.076817</td>\n",
       "      <td>120.285667</td>\n",
       "      <td>0.221750</td>\n",
       "      <td>52.500000</td>\n",
       "      <td>5</td>\n",
       "    </tr>\n",
       "    <tr>\n",
       "      <th>2</th>\n",
       "      <td>1</td>\n",
       "      <td>8-bit</td>\n",
       "      <td>0.762000</td>\n",
       "      <td>0.712000</td>\n",
       "      <td>1.151770e+05</td>\n",
       "      <td>0.818000</td>\n",
       "      <td>0.876000</td>\n",
       "      <td>0.126000</td>\n",
       "      <td>-9.180000</td>\n",
       "      <td>0.047000</td>\n",
       "      <td>133.444000</td>\n",
       "      <td>0.975000</td>\n",
       "      <td>48.000000</td>\n",
       "      <td>7</td>\n",
       "    </tr>\n",
       "    <tr>\n",
       "      <th>3</th>\n",
       "      <td>1</td>\n",
       "      <td>[]</td>\n",
       "      <td>0.651417</td>\n",
       "      <td>0.529093</td>\n",
       "      <td>2.328809e+05</td>\n",
       "      <td>0.419146</td>\n",
       "      <td>0.205309</td>\n",
       "      <td>0.218696</td>\n",
       "      <td>-12.288965</td>\n",
       "      <td>0.107872</td>\n",
       "      <td>112.857352</td>\n",
       "      <td>0.513604</td>\n",
       "      <td>20.859882</td>\n",
       "      <td>7</td>\n",
       "    </tr>\n",
       "    <tr>\n",
       "      <th>4</th>\n",
       "      <td>1</td>\n",
       "      <td>a cappella</td>\n",
       "      <td>0.676557</td>\n",
       "      <td>0.538961</td>\n",
       "      <td>1.906285e+05</td>\n",
       "      <td>0.316434</td>\n",
       "      <td>0.003003</td>\n",
       "      <td>0.172254</td>\n",
       "      <td>-12.479387</td>\n",
       "      <td>0.082851</td>\n",
       "      <td>112.110362</td>\n",
       "      <td>0.448249</td>\n",
       "      <td>45.820071</td>\n",
       "      <td>7</td>\n",
       "    </tr>\n",
       "  </tbody>\n",
       "</table>\n",
       "</div>"
      ],
      "text/plain": [
       "   mode                  genres  acousticness  danceability   duration_ms  \\\n",
       "0     1  21st century classical      0.979333      0.162883  1.602977e+05   \n",
       "1     1                   432hz      0.494780      0.299333  1.048887e+06   \n",
       "2     1                   8-bit      0.762000      0.712000  1.151770e+05   \n",
       "3     1                      []      0.651417      0.529093  2.328809e+05   \n",
       "4     1              a cappella      0.676557      0.538961  1.906285e+05   \n",
       "\n",
       "     energy  instrumentalness  liveness   loudness  speechiness       tempo  \\\n",
       "0  0.071317          0.606834  0.361600 -31.514333     0.040567   75.336500   \n",
       "1  0.450678          0.477762  0.131000 -16.854000     0.076817  120.285667   \n",
       "2  0.818000          0.876000  0.126000  -9.180000     0.047000  133.444000   \n",
       "3  0.419146          0.205309  0.218696 -12.288965     0.107872  112.857352   \n",
       "4  0.316434          0.003003  0.172254 -12.479387     0.082851  112.110362   \n",
       "\n",
       "    valence  popularity  key  \n",
       "0  0.103783   27.833333    6  \n",
       "1  0.221750   52.500000    5  \n",
       "2  0.975000   48.000000    7  \n",
       "3  0.513604   20.859882    7  \n",
       "4  0.448249   45.820071    7  "
      ]
     },
     "execution_count": 10,
     "metadata": {},
     "output_type": "execute_result"
    }
   ],
   "source": [
    "df_genres = pd.read_csv(\"K:\\ML-Projects\\Building Music Recommendation System using Spotify Dataset¶\\data\\data_by_genres.csv\")\n",
    "df_genres.head()"
   ]
  },
  {
   "cell_type": "code",
   "execution_count": 12,
   "metadata": {},
   "outputs": [
    {
     "data": {
      "text/html": [
       "<div>\n",
       "<style scoped>\n",
       "    .dataframe tbody tr th:only-of-type {\n",
       "        vertical-align: middle;\n",
       "    }\n",
       "\n",
       "    .dataframe tbody tr th {\n",
       "        vertical-align: top;\n",
       "    }\n",
       "\n",
       "    .dataframe thead th {\n",
       "        text-align: right;\n",
       "    }\n",
       "</style>\n",
       "<table border=\"1\" class=\"dataframe\">\n",
       "  <thead>\n",
       "    <tr style=\"text-align: right;\">\n",
       "      <th></th>\n",
       "      <th>mode</th>\n",
       "      <th>year</th>\n",
       "      <th>acousticness</th>\n",
       "      <th>danceability</th>\n",
       "      <th>duration_ms</th>\n",
       "      <th>energy</th>\n",
       "      <th>instrumentalness</th>\n",
       "      <th>liveness</th>\n",
       "      <th>loudness</th>\n",
       "      <th>speechiness</th>\n",
       "      <th>tempo</th>\n",
       "      <th>valence</th>\n",
       "      <th>popularity</th>\n",
       "      <th>key</th>\n",
       "    </tr>\n",
       "  </thead>\n",
       "  <tbody>\n",
       "    <tr>\n",
       "      <th>0</th>\n",
       "      <td>1</td>\n",
       "      <td>1921</td>\n",
       "      <td>0.886896</td>\n",
       "      <td>0.418597</td>\n",
       "      <td>260537.166667</td>\n",
       "      <td>0.231815</td>\n",
       "      <td>0.344878</td>\n",
       "      <td>0.205710</td>\n",
       "      <td>-17.048667</td>\n",
       "      <td>0.073662</td>\n",
       "      <td>101.531493</td>\n",
       "      <td>0.379327</td>\n",
       "      <td>0.653333</td>\n",
       "      <td>2</td>\n",
       "    </tr>\n",
       "    <tr>\n",
       "      <th>1</th>\n",
       "      <td>1</td>\n",
       "      <td>1922</td>\n",
       "      <td>0.938592</td>\n",
       "      <td>0.482042</td>\n",
       "      <td>165469.746479</td>\n",
       "      <td>0.237815</td>\n",
       "      <td>0.434195</td>\n",
       "      <td>0.240720</td>\n",
       "      <td>-19.275282</td>\n",
       "      <td>0.116655</td>\n",
       "      <td>100.884521</td>\n",
       "      <td>0.535549</td>\n",
       "      <td>0.140845</td>\n",
       "      <td>10</td>\n",
       "    </tr>\n",
       "    <tr>\n",
       "      <th>2</th>\n",
       "      <td>1</td>\n",
       "      <td>1923</td>\n",
       "      <td>0.957247</td>\n",
       "      <td>0.577341</td>\n",
       "      <td>177942.362162</td>\n",
       "      <td>0.262406</td>\n",
       "      <td>0.371733</td>\n",
       "      <td>0.227462</td>\n",
       "      <td>-14.129211</td>\n",
       "      <td>0.093949</td>\n",
       "      <td>114.010730</td>\n",
       "      <td>0.625492</td>\n",
       "      <td>5.389189</td>\n",
       "      <td>0</td>\n",
       "    </tr>\n",
       "    <tr>\n",
       "      <th>3</th>\n",
       "      <td>1</td>\n",
       "      <td>1924</td>\n",
       "      <td>0.940200</td>\n",
       "      <td>0.549894</td>\n",
       "      <td>191046.707627</td>\n",
       "      <td>0.344347</td>\n",
       "      <td>0.581701</td>\n",
       "      <td>0.235219</td>\n",
       "      <td>-14.231343</td>\n",
       "      <td>0.092089</td>\n",
       "      <td>120.689572</td>\n",
       "      <td>0.663725</td>\n",
       "      <td>0.661017</td>\n",
       "      <td>10</td>\n",
       "    </tr>\n",
       "    <tr>\n",
       "      <th>4</th>\n",
       "      <td>1</td>\n",
       "      <td>1925</td>\n",
       "      <td>0.962607</td>\n",
       "      <td>0.573863</td>\n",
       "      <td>184986.924460</td>\n",
       "      <td>0.278594</td>\n",
       "      <td>0.418297</td>\n",
       "      <td>0.237668</td>\n",
       "      <td>-14.146414</td>\n",
       "      <td>0.111918</td>\n",
       "      <td>115.521921</td>\n",
       "      <td>0.621929</td>\n",
       "      <td>2.604317</td>\n",
       "      <td>5</td>\n",
       "    </tr>\n",
       "  </tbody>\n",
       "</table>\n",
       "</div>"
      ],
      "text/plain": [
       "   mode  year  acousticness  danceability    duration_ms    energy  \\\n",
       "0     1  1921      0.886896      0.418597  260537.166667  0.231815   \n",
       "1     1  1922      0.938592      0.482042  165469.746479  0.237815   \n",
       "2     1  1923      0.957247      0.577341  177942.362162  0.262406   \n",
       "3     1  1924      0.940200      0.549894  191046.707627  0.344347   \n",
       "4     1  1925      0.962607      0.573863  184986.924460  0.278594   \n",
       "\n",
       "   instrumentalness  liveness   loudness  speechiness       tempo   valence  \\\n",
       "0          0.344878  0.205710 -17.048667     0.073662  101.531493  0.379327   \n",
       "1          0.434195  0.240720 -19.275282     0.116655  100.884521  0.535549   \n",
       "2          0.371733  0.227462 -14.129211     0.093949  114.010730  0.625492   \n",
       "3          0.581701  0.235219 -14.231343     0.092089  120.689572  0.663725   \n",
       "4          0.418297  0.237668 -14.146414     0.111918  115.521921  0.621929   \n",
       "\n",
       "   popularity  key  \n",
       "0    0.653333    2  \n",
       "1    0.140845   10  \n",
       "2    5.389189    0  \n",
       "3    0.661017   10  \n",
       "4    2.604317    5  "
      ]
     },
     "execution_count": 12,
     "metadata": {},
     "output_type": "execute_result"
    }
   ],
   "source": [
    "df_year = pd.read_csv(\"K:\\ML-Projects\\Building Music Recommendation System using Spotify Dataset¶\\data\\data_by_year.csv\")\n",
    "df_year.head()"
   ]
  },
  {
   "cell_type": "code",
   "execution_count": 13,
   "metadata": {},
   "outputs": [
    {
     "name": "stdout",
     "output_type": "stream",
     "text": [
      "<class 'pandas.core.frame.DataFrame'>\n",
      "RangeIndex: 170653 entries, 0 to 170652\n",
      "Data columns (total 19 columns):\n",
      " #   Column            Non-Null Count   Dtype  \n",
      "---  ------            --------------   -----  \n",
      " 0   valence           170653 non-null  float64\n",
      " 1   year              170653 non-null  int64  \n",
      " 2   acousticness      170653 non-null  float64\n",
      " 3   artists           170653 non-null  object \n",
      " 4   danceability      170653 non-null  float64\n",
      " 5   duration_ms       170653 non-null  int64  \n",
      " 6   energy            170653 non-null  float64\n",
      " 7   explicit          170653 non-null  int64  \n",
      " 8   id                170653 non-null  object \n",
      " 9   instrumentalness  170653 non-null  float64\n",
      " 10  key               170653 non-null  int64  \n",
      " 11  liveness          170653 non-null  float64\n",
      " 12  loudness          170653 non-null  float64\n",
      " 13  mode              170653 non-null  int64  \n",
      " 14  name              170653 non-null  object \n",
      " 15  popularity        170653 non-null  int64  \n",
      " 16  release_date      170653 non-null  object \n",
      " 17  speechiness       170653 non-null  float64\n",
      " 18  tempo             170653 non-null  float64\n",
      "dtypes: float64(9), int64(6), object(4)\n",
      "memory usage: 24.7+ MB\n"
     ]
    }
   ],
   "source": [
    "df.info()"
   ]
  },
  {
   "cell_type": "code",
   "execution_count": 15,
   "metadata": {},
   "outputs": [
    {
     "name": "stdout",
     "output_type": "stream",
     "text": [
      "<class 'pandas.core.frame.DataFrame'>\n",
      "RangeIndex: 2973 entries, 0 to 2972\n",
      "Data columns (total 14 columns):\n",
      " #   Column            Non-Null Count  Dtype  \n",
      "---  ------            --------------  -----  \n",
      " 0   mode              2973 non-null   int64  \n",
      " 1   genres            2973 non-null   object \n",
      " 2   acousticness      2973 non-null   float64\n",
      " 3   danceability      2973 non-null   float64\n",
      " 4   duration_ms       2973 non-null   float64\n",
      " 5   energy            2973 non-null   float64\n",
      " 6   instrumentalness  2973 non-null   float64\n",
      " 7   liveness          2973 non-null   float64\n",
      " 8   loudness          2973 non-null   float64\n",
      " 9   speechiness       2973 non-null   float64\n",
      " 10  tempo             2973 non-null   float64\n",
      " 11  valence           2973 non-null   float64\n",
      " 12  popularity        2973 non-null   float64\n",
      " 13  key               2973 non-null   int64  \n",
      "dtypes: float64(11), int64(2), object(1)\n",
      "memory usage: 325.3+ KB\n"
     ]
    }
   ],
   "source": [
    "df_genres.info()"
   ]
  },
  {
   "cell_type": "code",
   "execution_count": 16,
   "metadata": {},
   "outputs": [
    {
     "name": "stdout",
     "output_type": "stream",
     "text": [
      "<class 'pandas.core.frame.DataFrame'>\n",
      "RangeIndex: 100 entries, 0 to 99\n",
      "Data columns (total 14 columns):\n",
      " #   Column            Non-Null Count  Dtype  \n",
      "---  ------            --------------  -----  \n",
      " 0   mode              100 non-null    int64  \n",
      " 1   year              100 non-null    int64  \n",
      " 2   acousticness      100 non-null    float64\n",
      " 3   danceability      100 non-null    float64\n",
      " 4   duration_ms       100 non-null    float64\n",
      " 5   energy            100 non-null    float64\n",
      " 6   instrumentalness  100 non-null    float64\n",
      " 7   liveness          100 non-null    float64\n",
      " 8   loudness          100 non-null    float64\n",
      " 9   speechiness       100 non-null    float64\n",
      " 10  tempo             100 non-null    float64\n",
      " 11  valence           100 non-null    float64\n",
      " 12  popularity        100 non-null    float64\n",
      " 13  key               100 non-null    int64  \n",
      "dtypes: float64(11), int64(3)\n",
      "memory usage: 11.1 KB\n"
     ]
    }
   ],
   "source": [
    "df_year.info()"
   ]
  },
  {
   "cell_type": "code",
   "execution_count": 18,
   "metadata": {},
   "outputs": [
    {
     "data": {
      "text/plain": [
       "Index(['valence', 'year', 'acousticness', 'artists', 'danceability',\n",
       "       'duration_ms', 'energy', 'explicit', 'id', 'instrumentalness', 'key',\n",
       "       'liveness', 'loudness', 'mode', 'name', 'popularity', 'release_date',\n",
       "       'speechiness', 'tempo'],\n",
       "      dtype='object')"
      ]
     },
     "execution_count": 18,
     "metadata": {},
     "output_type": "execute_result"
    }
   ],
   "source": [
    "df.columns"
   ]
  },
  {
   "cell_type": "code",
   "execution_count": 27,
   "metadata": {},
   "outputs": [
    {
     "data": {
      "image/png": "[encoded data removed]",
      "text/plain": [
       "<Figure size 2000x2000 with 1 Axes>"
      ]
     },
     "metadata": {},
     "output_type": "display_data"
    },
    {
     "data": {
      "text/plain": [
       "<Axes: title={'center': 'Features correlation with dependent variable'}, xlabel='Pearson Correlation'>"
      ]
     },
     "execution_count": 27,
     "metadata": {},
     "output_type": "execute_result"
    }
   ],
   "source": [
    "from yellowbrick.target import FeatureCorrelation\n",
    "feature_names = ['valence', 'year', 'acousticness', 'danceability',\n",
    "       'duration_ms', 'energy', 'explicit', 'instrumentalness', 'key',\n",
    "       'liveness', 'loudness', 'mode',\n",
    "       'speechiness', 'tempo']\n",
    "x= df[feature_names]\n",
    "y =df[\"popularity\"]\n",
    "\n",
    "features = np.array(feature_names)\n",
    "\n",
    "visualizer = FeatureCorrelation(labels=features)\n",
    "plt.rcParams['figure.figsize'] = (20,20)\n",
    "visualizer.fit(x,y)\n",
    "visualizer.show()\n"
   ]
  },
  {
   "cell_type": "code",
   "execution_count": 34,
   "metadata": {},
   "outputs": [
    {
     "data": {
      "text/plain": [
       "<Axes: xlabel='decade', ylabel='count'>"
      ]
     },
     "execution_count": 34,
     "metadata": {},
     "output_type": "execute_result"
    },
    {
     "data": {
      "image/png": "[encoded data removed]",
      "text/plain": [
       "<Figure size 1000x1000 with 1 Axes>"
      ]
     },
     "metadata": {},
     "output_type": "display_data"
    }
   ],
   "source": [
    "def get_decade(year):\n",
    "  origin_year  = int(year/10)*10\n",
    "  decade = \"{}s\".format(origin_year)\n",
    "  return decade\n",
    "\n",
    "df['decade'] = df['year'].apply(get_decade)\n",
    "\n",
    "sns.set(rc={'figure.figsize':(10,10)})\n",
    "sns.countplot(x='decade',data=df)"
   ]
  },
  {
   "cell_type": "code",
   "execution_count": 35,
   "metadata": {},
   "outputs": [
    {
     "data": {
      "application/vnd.plotly.v1+json": {
       "config": {
        "plotlyServerURL": "https://plot.ly"
       },
       "data": [
        {
         "hovertemplate": "variable=acousticness<br>year=%{x}<br>value=%{y}<extra></extra>",
         "legendgroup": "acousticness",
         "line": {
          "color": "#636efa",
          "dash": "solid"
         },
         "marker": {
          "symbol": "circle"
         },
         "mode": "lines",
         "name": "acousticness",
         "orientation": "v",
         "showlegend": true,
         "type": "scatter",
         "x": [
          1921,
          1922,
          1923,
          1924,
          1925,
          1926,
          1927,
          1928,
          1929,
          1930,
          1931,
          1932,
          1933,
          1934,
          1935,
          1936,
          1937,
          1938,
          1939,
          1940,
          1941,
          1942,
          1943,
          1944,
          1945,
          1946,
          1947,
          1948,
          1949,
          1950,
          1951,
          1952,
          1953,
          1954,
          1955,
          1956,
          1957,
          1958,
          1959,
          1960,
          1961,
          1962,
          1963,
          1964,
          1965,
          1966,
          1967,
          1968,
          1969,
          1970,
          1971,
          1972,
          1973,
          1974,
          1975,
          1976,
          1977,
          1978,
          1979,
          1980,
          1981,
          1982,
          1983,
          1984,
          1985,
          1986,
          1987,
          1988,
          1989,
          1990,
          1991,
          1992,
          1993,
          1994,
          1995,
          1996,
          1997,
          1998,
          1999,
          2000,
          2001,
          2002,
          2003,
          2004,
          2005,
          2006,
          2007,
          2008,
          2009,
          2010,
          2011,
          2012,
          2013,
          2014,
          2015,
          2016,
          2017,
          2018,
          2019,
          2020
         ],
         "xaxis": "x",
         "y": [
          0.8868960000000005,
          0.9385915492957748,
          0.9572467913513516,
          0.940199860169493,
          0.9626070503597138,
          0.660817216981134,
          0.9361794552845558,
          0.9386165035685952,
          0.6014265861344558,
          0.936714937370057,
          0.8330399585921336,
          0.9357705179282878,
          0.899897909117222,
          0.8911487501730107,
          0.7783855599472987,
          0.7723120800000008,
          0.8654357853881286,
          0.9192803908646014,
          0.9087381000000004,
          0.8476440499999951,
          0.8957376562500025,
          0.8529343703923857,
          0.9027523185915528,
          0.9076531914893636,
          0.7096568630000005,
          0.9199445823665852,
          0.9139650224242392,
          0.9221549999999956,
          0.9075328949999956,
          0.8539413005999965,
          0.9022971956499974,
          0.8743009244999965,
          0.8909223502564074,
          0.8650197272999992,
          0.8405510069999986,
          0.8230569899999975,
          0.7928023589743608,
          0.7796118650000005,
          0.7793927897435907,
          0.7671814843243259,
          0.7519038684210535,
          0.720607806842106,
          0.7227048300000004,
          0.6941005307692291,
          0.6099113295384619,
          0.5248094599699997,
          0.5296103243521767,
          0.4937702403500001,
          0.4488463039999994,
          0.4600571139500007,
          0.4583362981000009,
          0.4600428051999994,
          0.4165241889999992,
          0.4472074226000001,
          0.4337738871950005,
          0.3614706321099993,
          0.3393025333750004,
          0.3289685734499993,
          0.29593224063,
          0.284955397635897,
          0.3012042267400006,
          0.2895800382050001,
          0.2947778916300001,
          0.2877095803450008,
          0.2965709032099995,
          0.2850806564249999,
          0.3116640663948722,
          0.322009946512821,
          0.3133512518150009,
          0.3328699505850001,
          0.3327652916307699,
          0.3208087638250009,
          0.3090685537400004,
          0.3062343630899999,
          0.3025118061200004,
          0.3010268798000006,
          0.3067156934549995,
          0.2914894615700001,
          0.2715901110661201,
          0.2893227005163599,
          0.2868424748428934,
          0.282624289885001,
          0.2564705181729783,
          0.2805589466225845,
          0.2557635068666665,
          0.2799863520256408,
          0.2540809575538463,
          0.2491917627212275,
          0.261928619096939,
          0.2426866435515872,
          0.2731826625185919,
          0.2499530443804624,
          0.2574880859564779,
          0.249312645880299,
          0.2539522577102332,
          0.2841710299554814,
          0.2860990665261043,
          0.2676329907750836,
          0.2782985863365824,
          0.2199308880935964
         ],
         "yaxis": "y"
        },
        {
         "hovertemplate": "variable=danceability<br>year=%{x}<br>value=%{y}<extra></extra>",
         "legendgroup": "danceability",
         "line": {
          "color": "#EF553B",
          "dash": "solid"
         },
         "marker": {
          "symbol": "circle"
         },
         "mode": "lines",
         "name": "danceability",
         "orientation": "v",
         "showlegend": true,
         "type": "scatter",
         "x": [
          1921,
          1922,
          1923,
          1924,
          1925,
          1926,
          1927,
          1928,
          1929,
          1930,
          1931,
          1932,
          1933,
          1934,
          1935,
          1936,
          1937,
          1938,
          1939,
          1940,
          1941,
          1942,
          1943,
          1944,
          1945,
          1946,
          1947,
          1948,
          1949,
          1950,
          1951,
          1952,
          1953,
          1954,
          1955,
          1956,
          1957,
          1958,
          1959,
          1960,
          1961,
          1962,
          1963,
          1964,
          1965,
          1966,
          1967,
          1968,
          1969,
          1970,
          1971,
          1972,
          1973,
          1974,
          1975,
          1976,
          1977,
          1978,
          1979,
          1980,
          1981,
          1982,
          1983,
          1984,
          1985,
          1986,
          1987,
          1988,
          1989,
          1990,
          1991,
          1992,
          1993,
          1994,
          1995,
          1996,
          1997,
          1998,
          1999,
          2000,
          2001,
          2002,
          2003,
          2004,
          2005,
          2006,
          2007,
          2008,
          2009,
          2010,
          2011,
          2012,
          2013,
          2014,
          2015,
          2016,
          2017,
          2018,
          2019,
          2020
         ],
         "xaxis": "x",
         "y": [
          0.4185973333333336,
          0.4820422535211267,
          0.5773405405405401,
          0.5498940677966102,
          0.5738633093525181,
          0.5998802612481859,
          0.6482682926829262,
          0.5342878667724027,
          0.6476698529411761,
          0.5181758835758836,
          0.5952217391304357,
          0.5577976095617526,
          0.57029030390738,
          0.528705882352941,
          0.5558691699604746,
          0.5580055454545453,
          0.5421572298325723,
          0.479977977161501,
          0.5126828,
          0.52189235,
          0.4804813541666676,
          0.4646338882282997,
          0.4551456338028168,
          0.5001744680851068,
          0.5191431500000011,
          0.4144450116009276,
          0.4713208484848491,
          0.4633694736842109,
          0.4421993999999996,
          0.5042531000000008,
          0.4624800999999999,
          0.4570322000000001,
          0.4374260512820513,
          0.4656388999999994,
          0.4881312,
          0.4878145000000007,
          0.5034812307692305,
          0.4800213999999995,
          0.4821143076923083,
          0.4860292432432435,
          0.4891655789473678,
          0.4931643684210523,
          0.48162135,
          0.5041769743589742,
          0.5034505641025638,
          0.5070204999999981,
          0.4926885942971483,
          0.5010080999999997,
          0.4880977999999999,
          0.5063075000000004,
          0.5042738499999999,
          0.5209994499999997,
          0.5154494500000005,
          0.51533975,
          0.5209980000000007,
          0.5297624999999999,
          0.5333237000000017,
          0.5407746000000005,
          0.5620453000000001,
          0.5561523589743594,
          0.5421846999999999,
          0.5642594000000005,
          0.5456292999999998,
          0.5303089499999987,
          0.5556424000000012,
          0.5409334000000001,
          0.5410193333333342,
          0.5404594358974372,
          0.5472274499999988,
          0.5352986500000001,
          0.5558243589743591,
          0.5550648499999989,
          0.5698781500000001,
          0.5528299500000016,
          0.5590457500000001,
          0.5878306000000001,
          0.5768138499999994,
          0.5862116499999998,
          0.5821579190158892,
          0.590918047034764,
          0.5833178553615969,
          0.5761602999999997,
          0.5757633060388944,
          0.5676803662258397,
          0.5722805641025652,
          0.5682301538461539,
          0.5634143589743592,
          0.5791928388746803,
          0.5641903571428577,
          0.5724883432539687,
          0.5528669806643526,
          0.5708818508997433,
          0.5711480263157896,
          0.5899476807980057,
          0.5937740628166152,
          0.6002023928770179,
          0.6122170180722886,
          0.6635004755111744,
          0.6448141097998967,
          0.6929043349753701
         ],
         "yaxis": "y"
        },
        {
         "hovertemplate": "variable=energy<br>year=%{x}<br>value=%{y}<extra></extra>",
         "legendgroup": "energy",
         "line": {
          "color": "#00cc96",
          "dash": "solid"
         },
         "marker": {
          "symbol": "circle"
         },
         "mode": "lines",
         "name": "energy",
         "orientation": "v",
         "showlegend": true,
         "type": "scatter",
         "x": [
          1921,
          1922,
          1923,
          1924,
          1925,
          1926,
          1927,
          1928,
          1929,
          1930,
          1931,
          1932,
          1933,
          1934,
          1935,
          1936,
          1937,
          1938,
          1939,
          1940,
          1941,
          1942,
          1943,
          1944,
          1945,
          1946,
          1947,
          1948,
          1949,
          1950,
          1951,
          1952,
          1953,
          1954,
          1955,
          1956,
          1957,
          1958,
          1959,
          1960,
          1961,
          1962,
          1963,
          1964,
          1965,
          1966,
          1967,
          1968,
          1969,
          1970,
          1971,
          1972,
          1973,
          1974,
          1975,
          1976,
          1977,
          1978,
          1979,
          1980,
          1981,
          1982,
          1983,
          1984,
          1985,
          1986,
          1987,
          1988,
          1989,
          1990,
          1991,
          1992,
          1993,
          1994,
          1995,
          1996,
          1997,
          1998,
          1999,
          2000,
          2001,
          2002,
          2003,
          2004,
          2005,
          2006,
          2007,
          2008,
          2009,
          2010,
          2011,
          2012,
          2013,
          2014,
          2015,
          2016,
          2017,
          2018,
          2019,
          2020
         ],
         "xaxis": "x",
         "y": [
          0.2318151333333333,
          0.2378153521126759,
          0.2624064864864865,
          0.3443466101694912,
          0.2785935251798561,
          0.2114670907111756,
          0.2643213008130081,
          0.2079477954004757,
          0.2418007352941172,
          0.3335239189189189,
          0.2344967732919257,
          0.3020677290836656,
          0.2798994211287988,
          0.2621313148788928,
          0.2463669762845848,
          0.3083886092727274,
          0.3110482952815827,
          0.2809812398042416,
          0.2826715000000002,
          0.3108928949999999,
          0.2656431979166666,
          0.2560794708680144,
          0.2799900422535211,
          0.2534414494680852,
          0.2260444155,
          0.2221723085846866,
          0.2635512000000002,
          0.242464841052632,
          0.2461146149999996,
          0.3140711950000003,
          0.254665655,
          0.2536260100000002,
          0.2661968307692306,
          0.264347385,
          0.2950963400000001,
          0.3047611200000001,
          0.2952791333333324,
          0.3087957550000006,
          0.3109944051282049,
          0.3411423783783781,
          0.3395318673684203,
          0.3710257,
          0.3653538849999999,
          0.394438825641026,
          0.4490272461538461,
          0.482208465,
          0.4468238319159585,
          0.4569696500000004,
          0.4876251299999994,
          0.495633050000001,
          0.4963612550000003,
          0.5045261799999999,
          0.5361382499999989,
          0.5147236550000011,
          0.5232085050000003,
          0.5538432500000001,
          0.560287959000001,
          0.5614288650000007,
          0.5910127149999996,
          0.5977773948717964,
          0.5993827249999998,
          0.5909193894999996,
          0.6014252350000012,
          0.5910916750000013,
          0.6015154800000013,
          0.6149545999999998,
          0.5798395538461533,
          0.5856792461538458,
          0.584046375000001,
          0.5715913950000007,
          0.5594023641025635,
          0.5828642050000001,
          0.5625599100000002,
          0.578772685000001,
          0.5785795100000009,
          0.5860684750000011,
          0.5986987151000001,
          0.6051975050000015,
          0.6375226022552535,
          0.6254128323108387,
          0.6269855221945144,
          0.6412697960000012,
          0.6601652610030712,
          0.6488679450661226,
          0.653208511282051,
          0.6503262820512825,
          0.6683047743589737,
          0.6714608207672623,
          0.6707487551020408,
          0.6817778026289684,
          0.6483008934060499,
          0.6565714601542408,
          0.6455968914473688,
          0.6487954437905223,
          0.6270642715298895,
          0.5928552316082347,
          0.5904210208835337,
          0.6024346220161672,
          0.5932240360184717,
          0.6312316354679793
         ],
         "yaxis": "y"
        },
        {
         "hovertemplate": "variable=instrumentalness<br>year=%{x}<br>value=%{y}<extra></extra>",
         "legendgroup": "instrumentalness",
         "line": {
          "color": "#ab63fa",
          "dash": "solid"
         },
         "marker": {
          "symbol": "circle"
         },
         "mode": "lines",
         "name": "instrumentalness",
         "orientation": "v",
         "showlegend": true,
         "type": "scatter",
         "x": [
          1921,
          1922,
          1923,
          1924,
          1925,
          1926,
          1927,
          1928,
          1929,
          1930,
          1931,
          1932,
          1933,
          1934,
          1935,
          1936,
          1937,
          1938,
          1939,
          1940,
          1941,
          1942,
          1943,
          1944,
          1945,
          1946,
          1947,
          1948,
          1949,
          1950,
          1951,
          1952,
          1953,
          1954,
          1955,
          1956,
          1957,
          1958,
          1959,
          1960,
          1961,
          1962,
          1963,
          1964,
          1965,
          1966,
          1967,
          1968,
          1969,
          1970,
          1971,
          1972,
          1973,
          1974,
          1975,
          1976,
          1977,
          1978,
          1979,
          1980,
          1981,
          1982,
          1983,
          1984,
          1985,
          1986,
          1987,
          1988,
          1989,
          1990,
          1991,
          1992,
          1993,
          1994,
          1995,
          1996,
          1997,
          1998,
          1999,
          2000,
          2001,
          2002,
          2003,
          2004,
          2005,
          2006,
          2007,
          2008,
          2009,
          2010,
          2011,
          2012,
          2013,
          2014,
          2015,
          2016,
          2017,
          2018,
          2019,
          2020
         ],
         "xaxis": "x",
         "y": [
          0.3448780588666665,
          0.4341948697183099,
          0.371732725027027,
          0.5817009136440677,
          0.4182973612230215,
          0.3330931111175616,
          0.3913284986504065,
          0.4948354801348136,
          0.2152040310609246,
          0.3522059281652805,
          0.2214196416149072,
          0.2263565791633467,
          0.1839489396816208,
          0.276382266643599,
          0.2258732980895915,
          0.2571099957181816,
          0.3270876216438359,
          0.3784246349265906,
          0.2776824694100001,
          0.3168486998649998,
          0.4449516393124999,
          0.392882047871581,
          0.4098969234647892,
          0.4492919654122334,
          0.2758942570149996,
          0.4861264096461711,
          0.3475934179090908,
          0.3554848223842104,
          0.2977615361899994,
          0.245000820015,
          0.3084378555850002,
          0.2884126469300002,
          0.3183223943230766,
          0.2974400082799999,
          0.2166044216900002,
          0.2387634177800001,
          0.1945206161692309,
          0.1812411100599998,
          0.1881481940615383,
          0.1765021594216216,
          0.2646232531421054,
          0.1714715509421054,
          0.18543231468,
          0.1595978017794872,
          0.1183659460923078,
          0.1151259555649999,
          0.1189468546723362,
          0.112776949285,
          0.1594527081650001,
          0.1275670030849998,
          0.12501788923,
          0.1148803337599997,
          0.0996802232299999,
          0.11636098351,
          0.1113220337449999,
          0.12162904398,
          0.1277210319449999,
          0.1003812145099999,
          0.1157513720150001,
          0.1287510612717948,
          0.1468379466199998,
          0.100016383,
          0.1454105232900004,
          0.1451730397350004,
          0.1137385580749998,
          0.1099408543649999,
          0.1019745174666666,
          0.117190380220513,
          0.1131825446149999,
          0.1258262680949997,
          0.1150923397999999,
          0.1006900830649998,
          0.11529396538,
          0.1118857599499999,
          0.1232687960699999,
          0.0950528120350001,
          0.1046901786199999,
          0.1113257503499999,
          0.0940681410661199,
          0.1011677687934559,
          0.1072140189925186,
          0.0880483503149999,
          0.0830492746673491,
          0.0779340349084435,
          0.0901943611846154,
          0.0777014718769231,
          0.0729572680512819,
          0.0636620903171356,
          0.0758720736836735,
          0.0829805682192461,
          0.103772332166584,
          0.0852055206786631,
          0.0983650539170038,
          0.0765695548379051,
          0.1067868780547114,
          0.0939843871174179,
          0.0970906090662649,
          0.0542171216690441,
          0.0776402469728064,
          0.0163755243054187
         ],
         "yaxis": "y"
        },
        {
         "hovertemplate": "variable=liveness<br>year=%{x}<br>value=%{y}<extra></extra>",
         "legendgroup": "liveness",
         "line": {
          "color": "#FFA15A",
          "dash": "solid"
         },
         "marker": {
          "symbol": "circle"
         },
         "mode": "lines",
         "name": "liveness",
         "orientation": "v",
         "showlegend": true,
         "type": "scatter",
         "x": [
          1921,
          1922,
          1923,
          1924,
          1925,
          1926,
          1927,
          1928,
          1929,
          1930,
          1931,
          1932,
          1933,
          1934,
          1935,
          1936,
          1937,
          1938,
          1939,
          1940,
          1941,
          1942,
          1943,
          1944,
          1945,
          1946,
          1947,
          1948,
          1949,
          1950,
          1951,
          1952,
          1953,
          1954,
          1955,
          1956,
          1957,
          1958,
          1959,
          1960,
          1961,
          1962,
          1963,
          1964,
          1965,
          1966,
          1967,
          1968,
          1969,
          1970,
          1971,
          1972,
          1973,
          1974,
          1975,
          1976,
          1977,
          1978,
          1979,
          1980,
          1981,
          1982,
          1983,
          1984,
          1985,
          1986,
          1987,
          1988,
          1989,
          1990,
          1991,
          1992,
          1993,
          1994,
          1995,
          1996,
          1997,
          1998,
          1999,
          2000,
          2001,
          2002,
          2003,
          2004,
          2005,
          2006,
          2007,
          2008,
          2009,
          2010,
          2011,
          2012,
          2013,
          2014,
          2015,
          2016,
          2017,
          2018,
          2019,
          2020
         ],
         "xaxis": "x",
         "y": [
          0.20571,
          0.2407197183098592,
          0.2274621621621621,
          0.2352190677966101,
          0.2376679856115108,
          0.2323695936139332,
          0.1684502439024389,
          0.1752893735130848,
          0.2360002100840333,
          0.2213108627858629,
          0.2274279503105589,
          0.2324962151394422,
          0.2090719247467437,
          0.2134525951557092,
          0.2292998682476943,
          0.2214382727272726,
          0.2259677321156773,
          0.237111092985318,
          0.2391015999999999,
          0.2643351000000004,
          0.2018398958333331,
          0.2128784185493456,
          0.2392107042253524,
          0.2387719414893616,
          0.2030099500000001,
          0.2108183294663576,
          0.2238293939393936,
          0.2196935789473678,
          0.2088585500000004,
          0.2169584000000004,
          0.2177773999999999,
          0.2329722999999998,
          0.221734051282051,
          0.2178411499999996,
          0.2214353500000001,
          0.1822571500000002,
          0.1827485641025636,
          0.2058408500000003,
          0.1918429230769232,
          0.2078637297297298,
          0.2089125789473681,
          0.2018957368421054,
          0.2037453000000002,
          0.2172323589743596,
          0.2138391282051284,
          0.2180930999999999,
          0.190917658829415,
          0.2173509500000005,
          0.2069658999999999,
          0.2122688000000002,
          0.2149145500000001,
          0.2069549500000001,
          0.2013747499999997,
          0.2093463499999996,
          0.2154413500000002,
          0.2490321999999999,
          0.2232140500000004,
          0.2180709499999994,
          0.2134431000000002,
          0.2037541025641026,
          0.2250998999999999,
          0.20100675,
          0.1989224500000002,
          0.1977062,
          0.1992064499999998,
          0.2118794500000001,
          0.202018102564103,
          0.207707538461538,
          0.1990802,
          0.1909609,
          0.1886289230769235,
          0.2002455000000007,
          0.1949322500000003,
          0.1921651000000001,
          0.2013737000000004,
          0.1986863000000002,
          0.1984788000000003,
          0.1937308999999996,
          0.206308047155305,
          0.1976860429447853,
          0.1870256359102248,
          0.1939111999999998,
          0.196976305015353,
          0.2021994404883014,
          0.1900816256410258,
          0.1882892820512821,
          0.1961265641025642,
          0.1984314066496162,
          0.2052522959183674,
          0.1997006448412699,
          0.2033088249876056,
          0.1897330077120824,
          0.1996308198380571,
          0.1918215960099752,
          0.1888564336372847,
          0.181169894268225,
          0.1917126004016064,
          0.1763255349500711,
          0.1726164186762446,
          0.1785354187192117
         ],
         "yaxis": "y"
        },
        {
         "hovertemplate": "variable=valence<br>year=%{x}<br>value=%{y}<extra></extra>",
         "legendgroup": "valence",
         "line": {
          "color": "#19d3f3",
          "dash": "solid"
         },
         "marker": {
          "symbol": "circle"
         },
         "mode": "lines",
         "name": "valence",
         "orientation": "v",
         "showlegend": true,
         "type": "scatter",
         "x": [
          1921,
          1922,
          1923,
          1924,
          1925,
          1926,
          1927,
          1928,
          1929,
          1930,
          1931,
          1932,
          1933,
          1934,
          1935,
          1936,
          1937,
          1938,
          1939,
          1940,
          1941,
          1942,
          1943,
          1944,
          1945,
          1946,
          1947,
          1948,
          1949,
          1950,
          1951,
          1952,
          1953,
          1954,
          1955,
          1956,
          1957,
          1958,
          1959,
          1960,
          1961,
          1962,
          1963,
          1964,
          1965,
          1966,
          1967,
          1968,
          1969,
          1970,
          1971,
          1972,
          1973,
          1974,
          1975,
          1976,
          1977,
          1978,
          1979,
          1980,
          1981,
          1982,
          1983,
          1984,
          1985,
          1986,
          1987,
          1988,
          1989,
          1990,
          1991,
          1992,
          1993,
          1994,
          1995,
          1996,
          1997,
          1998,
          1999,
          2000,
          2001,
          2002,
          2003,
          2004,
          2005,
          2006,
          2007,
          2008,
          2009,
          2010,
          2011,
          2012,
          2013,
          2014,
          2015,
          2016,
          2017,
          2018,
          2019,
          2020
         ],
         "xaxis": "x",
         "y": [
          0.3793266666666666,
          0.5355492957746479,
          0.6254924324324328,
          0.6637254237288139,
          0.6219287769784171,
          0.4369104571843251,
          0.6597004878048782,
          0.4957126883425853,
          0.6365298319327733,
          0.6162376299376306,
          0.5131170807453418,
          0.5881599601593626,
          0.5994099855282197,
          0.5588046712802772,
          0.5455777997364957,
          0.5640635454545455,
          0.5857894977168944,
          0.5149111092985317,
          0.5599248999999992,
          0.6167094700000009,
          0.4794560416666661,
          0.4774088585017848,
          0.4954545070422531,
          0.5406954787234041,
          0.4913613500000002,
          0.3982538283062647,
          0.5082125454545455,
          0.4621423684210526,
          0.4304195000000001,
          0.5516497000000001,
          0.44134755,
          0.4431349620499994,
          0.4291420512820513,
          0.4523410500000002,
          0.4724154999999997,
          0.5084230500000003,
          0.5110101538461542,
          0.4976614999999994,
          0.4784156410256422,
          0.5239316756756759,
          0.5128512105263155,
          0.5477920526315792,
          0.5415274500000008,
          0.55726042051282,
          0.5809506666666668,
          0.5801445499999996,
          0.5507916958479243,
          0.5659936500000002,
          0.5547452849999999,
          0.5720753999999992,
          0.5749132500000002,
          0.5956881500000009,
          0.5921162000000004,
          0.5812744000000009,
          0.5694151500000002,
          0.5807332499999998,
          0.58524655,
          0.5895352500000014,
          0.6099818000000005,
          0.5980580512820513,
          0.5829518500000006,
          0.5864384500000001,
          0.5721198999999989,
          0.5516387100000003,
          0.5655964500000001,
          0.5509485500000019,
          0.5414511794871785,
          0.5464853897435901,
          0.5483329000000007,
          0.5265268499999999,
          0.5486552307692295,
          0.5590983000000014,
          0.5555684500000001,
          0.5266491500000006,
          0.5302466999999994,
          0.5608732500000001,
          0.5485525000000002,
          0.5377209,
          0.5564528446950284,
          0.5594754601226991,
          0.541479107231919,
          0.5423971500000008,
          0.5305042476970324,
          0.5244885554425227,
          0.5325309230769236,
          0.5200283076923078,
          0.5167938461538473,
          0.5275418925831203,
          0.5071696617346935,
          0.5208951587301589,
          0.4724536787307882,
          0.4627090128534706,
          0.4547411943319834,
          0.4630487780548628,
          0.4320983687943254,
          0.4315320589872012,
          0.4164763112449793,
          0.4479212743699474,
          0.4588176295536167,
          0.5010478078817729
         ],
         "yaxis": "y"
        }
       ],
       "layout": {
        "legend": {
         "title": {
          "text": "variable"
         },
         "tracegroupgap": 0
        },
        "margin": {
         "t": 60
        },
        "template": {
         "data": {
          "bar": [
           {
            "error_x": {
             "color": "#2a3f5f"
            },
            "error_y": {
             "color": "#2a3f5f"
            },
            "marker": {
             "line": {
              "color": "#E5ECF6",
              "width": 0.5
             },
             "pattern": {
              "fillmode": "overlay",
              "size": 10,
              "solidity": 0.2
             }
            },
            "type": "bar"
           }
          ],
          "barpolar": [
           {
            "marker": {
             "line": {
              "color": "#E5ECF6",
              "width": 0.5
             },
             "pattern": {
              "fillmode": "overlay",
              "size": 10,
              "solidity": 0.2
             }
            },
            "type": "barpolar"
           }
          ],
          "carpet": [
           {
            "aaxis": {
             "endlinecolor": "#2a3f5f",
             "gridcolor": "white",
             "linecolor": "white",
             "minorgridcolor": "white",
             "startlinecolor": "#2a3f5f"
            },
            "baxis": {
             "endlinecolor": "#2a3f5f",
             "gridcolor": "white",
             "linecolor": "white",
             "minorgridcolor": "white",
             "startlinecolor": "#2a3f5f"
            },
            "type": "carpet"
           }
          ],
          "choropleth": [
           {
            "colorbar": {
             "outlinewidth": 0,
             "ticks": ""
            },
            "type": "choropleth"
           }
          ],
          "contour": [
           {
            "colorbar": {
             "outlinewidth": 0,
             "ticks": ""
            },
            "colorscale": [
             [
              0,
              "#0d0887"
             ],
             [
              0.1111111111111111,
              "#46039f"
             ],
             [
              0.2222222222222222,
              "#7201a8"
             ],
             [
              0.3333333333333333,
              "#9c179e"
             ],
             [
              0.4444444444444444,
              "#bd3786"
             ],
             [
              0.5555555555555556,
              "#d8576b"
             ],
             [
              0.6666666666666666,
              "#ed7953"
             ],
             [
              0.7777777777777778,
              "#fb9f3a"
             ],
             [
              0.8888888888888888,
              "#fdca26"
             ],
             [
              1,
              "#f0f921"
             ]
            ],
            "type": "contour"
           }
          ],
          "contourcarpet": [
           {
            "colorbar": {
             "outlinewidth": 0,
             "ticks": ""
            },
            "type": "contourcarpet"
           }
          ],
          "heatmap": [
           {
            "colorbar": {
             "outlinewidth": 0,
             "ticks": ""
            },
            "colorscale": [
             [
              0,
              "#0d0887"
             ],
             [
              0.1111111111111111,
              "#46039f"
             ],
             [
              0.2222222222222222,
              "#7201a8"
             ],
             [
              0.3333333333333333,
              "#9c179e"
             ],
             [
              0.4444444444444444,
              "#bd3786"
             ],
             [
              0.5555555555555556,
              "#d8576b"
             ],
             [
              0.6666666666666666,
              "#ed7953"
             ],
             [
              0.7777777777777778,
              "#fb9f3a"
             ],
             [
              0.8888888888888888,
              "#fdca26"
             ],
             [
              1,
              "#f0f921"
             ]
            ],
            "type": "heatmap"
           }
          ],
          "heatmapgl": [
           {
            "colorbar": {
             "outlinewidth": 0,
             "ticks": ""
            },
            "colorscale": [
             [
              0,
              "#0d0887"
             ],
             [
              0.1111111111111111,
              "#46039f"
             ],
             [
              0.2222222222222222,
              "#7201a8"
             ],
             [
              0.3333333333333333,
              "#9c179e"
             ],
             [
              0.4444444444444444,
              "#bd3786"
             ],
             [
              0.5555555555555556,
              "#d8576b"
             ],
             [
              0.6666666666666666,
              "#ed7953"
             ],
             [
              0.7777777777777778,
              "#fb9f3a"
             ],
             [
              0.8888888888888888,
              "#fdca26"
             ],
             [
              1,
              "#f0f921"
             ]
            ],
            "type": "heatmapgl"
           }
          ],
          "histogram": [
           {
            "marker": {
             "pattern": {
              "fillmode": "overlay",
              "size": 10,
              "solidity": 0.2
             }
            },
            "type": "histogram"
           }
          ],
          "histogram2d": [
           {
            "colorbar": {
             "outlinewidth": 0,
             "ticks": ""
            },
            "colorscale": [
             [
              0,
              "#0d0887"
             ],
             [
              0.1111111111111111,
              "#46039f"
             ],
             [
              0.2222222222222222,
              "#7201a8"
             ],
             [
              0.3333333333333333,
              "#9c179e"
             ],
             [
              0.4444444444444444,
              "#bd3786"
             ],
             [
              0.5555555555555556,
              "#d8576b"
             ],
             [
              0.6666666666666666,
              "#ed7953"
             ],
             [
              0.7777777777777778,
              "#fb9f3a"
             ],
             [
              0.8888888888888888,
              "#fdca26"
             ],
             [
              1,
              "#f0f921"
             ]
            ],
            "type": "histogram2d"
           }
          ],
          "histogram2dcontour": [
           {
            "colorbar": {
             "outlinewidth": 0,
             "ticks": ""
            },
            "colorscale": [
             [
              0,
              "#0d0887"
             ],
             [
              0.1111111111111111,
              "#46039f"
             ],
             [
              0.2222222222222222,
              "#7201a8"
             ],
             [
              0.3333333333333333,
              "#9c179e"
             ],
             [
              0.4444444444444444,
              "#bd3786"
             ],
             [
              0.5555555555555556,
              "#d8576b"
             ],
             [
              0.6666666666666666,
              "#ed7953"
             ],
             [
              0.7777777777777778,
              "#fb9f3a"
             ],
             [
              0.8888888888888888,
              "#fdca26"
             ],
             [
              1,
              "#f0f921"
             ]
            ],
            "type": "histogram2dcontour"
           }
          ],
          "mesh3d": [
           {
            "colorbar": {
             "outlinewidth": 0,
             "ticks": ""
            },
            "type": "mesh3d"
           }
          ],
          "parcoords": [
           {
            "line": {
             "colorbar": {
              "outlinewidth": 0,
              "ticks": ""
             }
            },
            "type": "parcoords"
           }
          ],
          "pie": [
           {
            "automargin": true,
            "type": "pie"
           }
          ],
          "scatter": [
           {
            "fillpattern": {
             "fillmode": "overlay",
             "size": 10,
             "solidity": 0.2
            },
            "type": "scatter"
           }
          ],
          "scatter3d": [
           {
            "line": {
             "colorbar": {
              "outlinewidth": 0,
              "ticks": ""
             }
            },
            "marker": {
             "colorbar": {
              "outlinewidth": 0,
              "ticks": ""
             }
            },
            "type": "scatter3d"
           }
          ],
          "scattercarpet": [
           {
            "marker": {
             "colorbar": {
              "outlinewidth": 0,
              "ticks": ""
             }
            },
            "type": "scattercarpet"
           }
          ],
          "scattergeo": [
           {
            "marker": {
             "colorbar": {
              "outlinewidth": 0,
              "ticks": ""
             }
            },
            "type": "scattergeo"
           }
          ],
          "scattergl": [
           {
            "marker": {
             "colorbar": {
              "outlinewidth": 0,
              "ticks": ""
             }
            },
            "type": "scattergl"
           }
          ],
          "scattermapbox": [
           {
            "marker": {
             "colorbar": {
              "outlinewidth": 0,
              "ticks": ""
             }
            },
            "type": "scattermapbox"
           }
          ],
          "scatterpolar": [
           {
            "marker": {
             "colorbar": {
              "outlinewidth": 0,
              "ticks": ""
             }
            },
            "type": "scatterpolar"
           }
          ],
          "scatterpolargl": [
           {
            "marker": {
             "colorbar": {
              "outlinewidth": 0,
              "ticks": ""
             }
            },
            "type": "scatterpolargl"
           }
          ],
          "scatterternary": [
           {
            "marker": {
             "colorbar": {
              "outlinewidth": 0,
              "ticks": ""
             }
            },
            "type": "scatterternary"
           }
          ],
          "surface": [
           {
            "colorbar": {
             "outlinewidth": 0,
             "ticks": ""
            },
            "colorscale": [
             [
              0,
              "#0d0887"
             ],
             [
              0.1111111111111111,
              "#46039f"
             ],
             [
              0.2222222222222222,
              "#7201a8"
             ],
             [
              0.3333333333333333,
              "#9c179e"
             ],
             [
              0.4444444444444444,
              "#bd3786"
             ],
             [
              0.5555555555555556,
              "#d8576b"
             ],
             [
              0.6666666666666666,
              "#ed7953"
             ],
             [
              0.7777777777777778,
              "#fb9f3a"
             ],
             [
              0.8888888888888888,
              "#fdca26"
             ],
             [
              1,
              "#f0f921"
             ]
            ],
            "type": "surface"
           }
          ],
          "table": [
           {
            "cells": {
             "fill": {
              "color": "#EBF0F8"
             },
             "line": {
              "color": "white"
             }
            },
            "header": {
             "fill": {
              "color": "#C8D4E3"
             },
             "line": {
              "color": "white"
             }
            },
            "type": "table"
           }
          ]
         },
         "layout": {
          "annotationdefaults": {
           "arrowcolor": "#2a3f5f",
           "arrowhead": 0,
           "arrowwidth": 1
          },
          "autotypenumbers": "strict",
          "coloraxis": {
           "colorbar": {
            "outlinewidth": 0,
            "ticks": ""
           }
          },
          "colorscale": {
           "diverging": [
            [
             0,
             "#8e0152"
            ],
            [
             0.1,
             "#c51b7d"
            ],
            [
             0.2,
             "#de77ae"
            ],
            [
             0.3,
             "#f1b6da"
            ],
            [
             0.4,
             "#fde0ef"
            ],
            [
             0.5,
             "#f7f7f7"
            ],
            [
             0.6,
             "#e6f5d0"
            ],
            [
             0.7,
             "#b8e186"
            ],
            [
             0.8,
             "#7fbc41"
            ],
            [
             0.9,
             "#4d9221"
            ],
            [
             1,
             "#276419"
            ]
           ],
           "sequential": [
            [
             0,
             "#0d0887"
            ],
            [
             0.1111111111111111,
             "#46039f"
            ],
            [
             0.2222222222222222,
             "#7201a8"
            ],
            [
             0.3333333333333333,
             "#9c179e"
            ],
            [
             0.4444444444444444,
             "#bd3786"
            ],
            [
             0.5555555555555556,
             "#d8576b"
            ],
            [
             0.6666666666666666,
             "#ed7953"
            ],
            [
             0.7777777777777778,
             "#fb9f3a"
            ],
            [
             0.8888888888888888,
             "#fdca26"
            ],
            [
             1,
             "#f0f921"
            ]
           ],
           "sequentialminus": [
            [
             0,
             "#0d0887"
            ],
            [
             0.1111111111111111,
             "#46039f"
            ],
            [
             0.2222222222222222,
             "#7201a8"
            ],
            [
             0.3333333333333333,
             "#9c179e"
            ],
            [
             0.4444444444444444,
             "#bd3786"
            ],
            [
             0.5555555555555556,
             "#d8576b"
            ],
            [
             0.6666666666666666,
             "#ed7953"
            ],
            [
             0.7777777777777778,
             "#fb9f3a"
            ],
            [
             0.8888888888888888,
             "#fdca26"
            ],
            [
             1,
             "#f0f921"
            ]
           ]
          },
          "colorway": [
           "#636efa",
           "#EF553B",
           "#00cc96",
           "#ab63fa",
           "#FFA15A",
           "#19d3f3",
           "#FF6692",
           "#B6E880",
           "#FF97FF",
           "#FECB52"
          ],
          "font": {
           "color": "#2a3f5f"
          },
          "geo": {
           "bgcolor": "white",
           "lakecolor": "white",
           "landcolor": "#E5ECF6",
           "showlakes": true,
           "showland": true,
           "subunitcolor": "white"
          },
          "hoverlabel": {
           "align": "left"
          },
          "hovermode": "closest",
          "mapbox": {
           "style": "light"
          },
          "paper_bgcolor": "white",
          "plot_bgcolor": "#E5ECF6",
          "polar": {
           "angularaxis": {
            "gridcolor": "white",
            "linecolor": "white",
            "ticks": ""
           },
           "bgcolor": "#E5ECF6",
           "radialaxis": {
            "gridcolor": "white",
            "linecolor": "white",
            "ticks": ""
           }
          },
          "scene": {
           "xaxis": {
            "backgroundcolor": "#E5ECF6",
            "gridcolor": "white",
            "gridwidth": 2,
            "linecolor": "white",
            "showbackground": true,
            "ticks": "",
            "zerolinecolor": "white"
           },
           "yaxis": {
            "backgroundcolor": "#E5ECF6",
            "gridcolor": "white",
            "gridwidth": 2,
            "linecolor": "white",
            "showbackground": true,
            "ticks": "",
            "zerolinecolor": "white"
           },
           "zaxis": {
            "backgroundcolor": "#E5ECF6",
            "gridcolor": "white",
            "gridwidth": 2,
            "linecolor": "white",
            "showbackground": true,
            "ticks": "",
            "zerolinecolor": "white"
           }
          },
          "shapedefaults": {
           "line": {
            "color": "#2a3f5f"
           }
          },
          "ternary": {
           "aaxis": {
            "gridcolor": "white",
            "linecolor": "white",
            "ticks": ""
           },
           "baxis": {
            "gridcolor": "white",
            "linecolor": "white",
            "ticks": ""
           },
           "bgcolor": "#E5ECF6",
           "caxis": {
            "gridcolor": "white",
            "linecolor": "white",
            "ticks": ""
           }
          },
          "title": {
           "x": 0.05
          },
          "xaxis": {
           "automargin": true,
           "gridcolor": "white",
           "linecolor": "white",
           "ticks": "",
           "title": {
            "standoff": 15
           },
           "zerolinecolor": "white",
           "zerolinewidth": 2
          },
          "yaxis": {
           "automargin": true,
           "gridcolor": "white",
           "linecolor": "white",
           "ticks": "",
           "title": {
            "standoff": 15
           },
           "zerolinecolor": "white",
           "zerolinewidth": 2
          }
         }
        },
        "xaxis": {
         "anchor": "y",
         "domain": [
          0,
          1
         ],
         "title": {
          "text": "year"
         }
        },
        "yaxis": {
         "anchor": "x",
         "domain": [
          0,
          1
         ],
         "title": {
          "text": "value"
         }
        }
       }
      }
     },
     "metadata": {},
     "output_type": "display_data"
    }
   ],
   "source": [
    "sound_features = ['acousticness', 'danceability', 'energy', 'instrumentalness', 'liveness', 'valence']\n",
    "fig = px.line(df_year, x='year', y=sound_features)\n",
    "fig.show()"
   ]
  },
  {
   "cell_type": "code",
   "execution_count": null,
   "metadata": {},
   "outputs": [],
   "source": []
  }
 ],
 "metadata": {
  "kernelspec": {
   "display_name": "base",
   "language": "python",
   "name": "python3"
  },
  "language_info": {
   "codemirror_mode": {
    "name": "ipython",
    "version": 3
   },
   "file_extension": ".py",
   "mimetype": "text/x-python",
   "name": "python",
   "nbconvert_exporter": "python",
   "pygments_lexer": "ipython3",
   "version": "3.11.7"
  }
 },
 "nbformat": 4,
 "nbformat_minor": 2
}
