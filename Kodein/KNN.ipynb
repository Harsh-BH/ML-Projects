{
 "cells": [
  {
   "cell_type": "markdown",
   "metadata": {},
   "source": [
    "## K-Nearest Neighbors (KNN) Algorithm\n",
    "\n",
    "\n",
    "\n",
    " Compute the distance between the test instance and all training instances. The Euclidean distance is commonly used:\n",
    "\n",
    "\n",
    "   \n",
    "   d(x, x_i) = sqrt{sum_{j=1}^{n} (x_j - x_{ij})^2}\n",
    "   \n",
    "   where (x) is the test instance, (x_i) is a training instance, and (n) is the number of features.\n",
    "\n",
    "   \n",
    "\n",
    " Identify the (k) training instances that are closest to the test instance based on the calculated distances.\n",
    "\n",
    " For classification, predict the class label by taking a majority vote among the (k) nearest neighbors. For regression, predict the value by taking the mean of the (k) nearest neighbors.\n",
    "\n"
   ]
  },
  {
   "cell_type": "markdown",
   "metadata": {},
   "source": [
    "# Load Data"
   ]
  },
  {
   "cell_type": "code",
   "execution_count": 1,
   "metadata": {},
   "outputs": [],
   "source": [
    "import pandas as pd\n",
    "import numpy as np\n",
    "\n"
   ]
  },
  {
   "cell_type": "code",
   "execution_count": 2,
   "metadata": {},
   "outputs": [
    {
     "name": "stdout",
     "output_type": "stream",
     "text": [
      "    Feature_1  Feature_2   Feature_3  Target\n",
      "0   94.870985  88.239326  101.497093       0\n",
      "1   97.684482  84.837474   90.892151       0\n",
      "2   94.648343  77.467282   87.646104       0\n",
      "3   94.635471  85.327735   99.851568       0\n",
      "4  104.397011  84.097116   98.211326       0\n",
      "    Feature_1  Feature_2  Feature_3  Target\n",
      "0   97.533783  88.329103  98.191966       0\n",
      "1  102.838058  78.783627  90.867559       0\n",
      "2   95.155724  86.679155  94.861119       0\n",
      "3  102.838797  87.504581  99.622361       0\n",
      "4   99.238078  86.704614  91.685225       0\n"
     ]
    }
   ],
   "source": [
    "data1_train = pd.read_csv('data1_train.csv')\n",
    "data1_test = pd.read_csv('data1_test.csv')\n",
    "\n",
    "print(data1_train.head())\n",
    "print(data1_test.head())"
   ]
  },
  {
   "cell_type": "code",
   "execution_count": 3,
   "metadata": {},
   "outputs": [
    {
     "name": "stdout",
     "output_type": "stream",
     "text": [
      "   Feature_1   Feature_2  Target\n",
      "0   8.160646   88.799326       0\n",
      "1  31.149536  102.335826       0\n",
      "2  13.103383   92.902908       0\n",
      "3  15.950445   77.412565       0\n",
      "4  35.856965   94.441550       0\n",
      "   Feature_1  Feature_2  Target\n",
      "0  48.489576  81.609641       0\n",
      "1  26.069706  89.783100       0\n",
      "2  31.967447  88.005024       0\n",
      "3  44.957613  91.219129       0\n",
      "4  27.681870  87.381969       0\n"
     ]
    }
   ],
   "source": [
    "data2_train = pd.read_csv('data2_train.csv')\n",
    "data2_test = pd.read_csv('data2_test.csv')\n",
    "\n",
    "print(data2_train.head())\n",
    "print(data2_test.head())"
   ]
  },
  {
   "cell_type": "code",
   "execution_count": 4,
   "metadata": {},
   "outputs": [],
   "source": [
    "from sklearn.preprocessing import StandardScaler\n",
    "\n",
    "def normalize_data(train_data, test_data):\n",
    "    \n",
    "    scaler = StandardScaler()\n",
    "\n",
    "    X_train = scaler.fit_transform(train_data.iloc[:, :-1].values)\n",
    "\n",
    "    y_train = train_data.iloc[:, -1].values\n",
    "\n",
    "    X_test = scaler.transform(test_data.iloc[:, :-1].values)\n",
    "\n",
    "    y_test = test_data.iloc[:, -1].values\n",
    "\n",
    "    return X_train, y_train, X_test, y_test\n",
    "\n",
    "X_train1, y_train1, X_test1, y_test1 = normalize_data(data1_train, data1_test)\n",
    "\n",
    "X_train2, y_train2, X_test2, y_test2 = normalize_data(data2_train, data2_test)\n"
   ]
  },
  {
   "cell_type": "markdown",
   "metadata": {},
   "source": [
    "calculate distance\n"
   ]
  },
  {
   "cell_type": "code",
   "execution_count": 13,
   "metadata": {},
   "outputs": [],
   "source": [
    "import numpy as np\n",
    "\n",
    "def calculate_distances(X_train, X_test_instance):\n",
    "\n",
    "    distances = np.sqrt(np.sum((X_train - X_test_instance)**2, axis=1))\n",
    "    \n",
    "    return distances\n"
   ]
  },
  {
   "cell_type": "code",
   "execution_count": 14,
   "metadata": {},
   "outputs": [],
   "source": [
    "def find_k_nearest_neighbors(X_train, y_train, X_test_instance, k):\n",
    "\n",
    "    distances = calculate_distances(X_train, X_test_instance)\n",
    "\n",
    "    k_indices = np.argsort(distances)[:k]\n",
    "\n",
    "    k_nearest_labels = y_train[k_indices]\n",
    "    \n",
    "    return k_nearest_labels\n"
   ]
  },
  {
   "cell_type": "code",
   "execution_count": 19,
   "metadata": {},
   "outputs": [],
   "source": [
    "from collections import Counter\n",
    "\n",
    "def predict(X_train, y_train, X_test, k):\n",
    "\n",
    "    predictions = []\n",
    "\n",
    "    for X_test_instance in X_test:\n",
    "\n",
    "        k_nearest_labels = find_k_nearest_neighbors(X_train, y_train, X_test_instance, k)\n",
    "\n",
    "        majority_vote = Counter(k_nearest_labels).most_common(1)[0][0]\n",
    "\n",
    "        predictions.append(majority_vote)\n",
    "        \n",
    "    return predictions\n"
   ]
  },
  {
   "cell_type": "code",
   "execution_count": 24,
   "metadata": {},
   "outputs": [
    {
     "name": "stdout",
     "output_type": "stream",
     "text": [
      "Training Accuracy 1: 97.75%\n",
      "Test Accuracy 1: 98.00%\n",
      "Training Accuracy 2: 99.12%\n",
      "Test Accuracy 2: 99.00%\n"
     ]
    }
   ],
   "source": [
    "def evaluate_model(y_true, y_pred):\n",
    "\n",
    "    accuracy = np.mean(y_true == y_pred) * 100\n",
    "\n",
    "    return accuracy\n",
    "\n",
    "\n",
    "k = 3\n",
    "\n",
    "\n",
    "y_train1_pred = predict(X_train1, y_train1, X_train1, k)\n",
    "\n",
    "y_test1_pred = predict(X_train1, y_train1, X_test1, k)\n",
    "\n",
    "y_train2_pred = predict(X_train2, y_train2, X_train2, k)\n",
    "\n",
    "y_test2_pred = predict(X_train2, y_train2, X_test2, k)\n",
    "\n",
    "train_accuracy1 = evaluate_model(y_train1, y_train1_pred)\n",
    "\n",
    "test_accuracy1 = evaluate_model(y_test1, y_test1_pred)\n",
    "\n",
    "train_accuracy2 = evaluate_model(y_train2, y_train2_pred)\n",
    "\n",
    "test_accuracy2 = evaluate_model(y_test2, y_test2_pred)\n",
    "\n",
    "print(f'Training Accuracy 1: {train_accuracy1:.2f}%')\n",
    "\n",
    "print(f'Test Accuracy 1: {test_accuracy1:.2f}%')\n",
    "\n",
    "print(f'Training Accuracy 2: {train_accuracy2:.2f}%')\n",
    "\n",
    "print(f'Test Accuracy 2: {test_accuracy2:.2f}%')\n"
   ]
  },
  {
   "cell_type": "code",
   "execution_count": 27,
   "metadata": {},
   "outputs": [
    {
     "name": "stdout",
     "output_type": "stream",
     "text": [
      "Best k: 3\n",
      "Best Test Accuracy: 98.00%\n",
      "Best k: 9\n",
      "Best Test Accuracy: 99.50%\n"
     ]
    }
   ],
   "source": [
    "def grid_search_knn(X_train, y_train, X_test, y_test, k_values):\n",
    "\n",
    "    best_k = k_values[0]\n",
    "\n",
    "    best_accuracy = 0\n",
    "\n",
    "    for k in k_values:\n",
    "\n",
    "        y_test_pred = predict(X_train, y_train, X_test, k)\n",
    "\n",
    "        accuracy = evaluate_model(y_test, y_test_pred)\n",
    "\n",
    "        if accuracy > best_accuracy:\n",
    "\n",
    "            best_accuracy = accuracy\n",
    "\n",
    "            best_k = k\n",
    "\n",
    "    return best_k, best_accuracy\n",
    "\n",
    "k_values = [1, 3, 5, 7, 9, 11, 13, 15]\n",
    "\n",
    "best_k1, best_accuracy1 = grid_search_knn(X_train1, y_train1, X_test1, y_test1, k_values)\n",
    "\n",
    "best_k2, best_accuracy2 = grid_search_knn(X_train2, y_train2, X_test2, y_test2, k_values)\n",
    "\n",
    "\n",
    "print(f'Best k: {best_k1}')\n",
    "\n",
    "print(f'Best Test Accuracy: {best_accuracy1:.2f}%')\n",
    "\n",
    "print(f'Best k: {best_k2}')\n",
    "\n",
    "print(f'Best Test Accuracy: {best_accuracy2:.2f}%')\n"
   ]
  },
  {
   "cell_type": "code",
   "execution_count": 30,
   "metadata": {},
   "outputs": [
    {
     "name": "stdout",
     "output_type": "stream",
     "text": [
      "Scikit-Learn Training Accuracy 1: 97.62%\n",
      "Scikit-Learn Test Accuracy 1: 98.00%\n",
      "Scikit-Learn Training Accuracy 2: 98.75%\n",
      "Scikit-Learn Test Accuracy 2: 99.50%\n"
     ]
    }
   ],
   "source": [
    "from sklearn.neighbors import KNeighborsClassifier\n",
    "\n",
    "from sklearn.metrics import accuracy_score\n",
    "\n",
    "def compare_with_sklearn(X_train, y_train, X_test, y_test, best_k):\n",
    "\n",
    "    model = KNeighborsClassifier(n_neighbors=best_k)\n",
    "\n",
    "    model.fit(X_train, y_train)\n",
    "\n",
    "    y_train_pred_sklearn = model.predict(X_train)\n",
    "\n",
    "    y_test_pred_sklearn = model.predict(X_test)\n",
    "\n",
    "    train_accuracy_sklearn = accuracy_score(y_train, y_train_pred_sklearn) * 100\n",
    "\n",
    "    test_accuracy_sklearn = accuracy_score(y_test, y_test_pred_sklearn) * 100\n",
    "\n",
    "    return train_accuracy_sklearn, test_accuracy_sklearn\n",
    "\n",
    "train_accuracy_sklearn_1, test_accuracy_sklearn_1 = compare_with_sklearn(X_train1, y_train1, X_test1, y_test1, best_k1)\n",
    "\n",
    "train_accuracy_sklearn_2, test_accuracy_sklearn_2 = compare_with_sklearn(X_train2, y_train2, X_test2, y_test2, best_k2)\n",
    "\n",
    "print(f'Scikit-Learn Training Accuracy 1: {train_accuracy_sklearn_1:.2f}%')\n",
    "\n",
    "print(f'Scikit-Learn Test Accuracy 1: {test_accuracy_sklearn_1:.2f}%')\n",
    "\n",
    "\n",
    "print(f'Scikit-Learn Training Accuracy 2: {train_accuracy_sklearn_2:.2f}%')\n",
    "\n",
    "print(f'Scikit-Learn Test Accuracy 2: {test_accuracy_sklearn_2:.2f}%')\n"
   ]
  },
  {
   "cell_type": "code",
   "execution_count": null,
   "metadata": {},
   "outputs": [],
   "source": []
  }
 ],
 "metadata": {
  "kernelspec": {
   "display_name": "base",
   "language": "python",
   "name": "python3"
  },
  "language_info": {
   "codemirror_mode": {
    "name": "ipython",
    "version": 3
   },
   "file_extension": ".py",
   "mimetype": "text/x-python",
   "name": "python",
   "nbconvert_exporter": "python",
   "pygments_lexer": "ipython3",
   "version": "3.11.7"
  }
 },
 "nbformat": 4,
 "nbformat_minor": 2
}
